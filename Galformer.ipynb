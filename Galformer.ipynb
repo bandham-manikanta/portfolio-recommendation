{
 "cells": [
  {
   "cell_type": "markdown",
   "id": "a1b11bd9",
   "metadata": {
    "id": "a1b11bd9"
   },
   "source": [
    "# Galformer Model Training with TPU and CPU Support\n",
    "\n",
    "This notebook trains a Transformer-based model (Galformer) for stock price prediction.\n",
    "It is designed to run efficiently on both TPUs and CPUs, automatically detecting\n",
    "the available hardware and adjusting accordingly."
   ]
  },
  {
   "cell_type": "code",
   "execution_count": 31,
   "id": "15oap6ObAovE",
   "metadata": {
    "colab": {
     "base_uri": "https://localhost:8080/"
    },
    "id": "15oap6ObAovE",
    "outputId": "38267c26-d197-4d07-e02a-cef764e4aceb"
   },
   "outputs": [
    {
     "name": "stdout",
     "output_type": "stream",
     "text": [
      "Requirement already satisfied: tensorflow==2.12 in /usr/local/lib/python3.10/dist-packages (2.12.0)\n",
      "Requirement already satisfied: absl-py>=1.0.0 in /usr/local/lib/python3.10/dist-packages (from tensorflow==2.12) (1.4.0)\n",
      "Requirement already satisfied: astunparse>=1.6.0 in /usr/local/lib/python3.10/dist-packages (from tensorflow==2.12) (1.6.3)\n",
      "Requirement already satisfied: flatbuffers>=2.0 in /usr/local/lib/python3.10/dist-packages (from tensorflow==2.12) (24.3.25)\n",
      "Requirement already satisfied: gast<=0.4.0,>=0.2.1 in /usr/local/lib/python3.10/dist-packages (from tensorflow==2.12) (0.4.0)\n",
      "Requirement already satisfied: google-pasta>=0.1.1 in /usr/local/lib/python3.10/dist-packages (from tensorflow==2.12) (0.2.0)\n",
      "Requirement already satisfied: grpcio<2.0,>=1.24.3 in /usr/local/lib/python3.10/dist-packages (from tensorflow==2.12) (1.68.0)\n",
      "Requirement already satisfied: h5py>=2.9.0 in /usr/local/lib/python3.10/dist-packages (from tensorflow==2.12) (3.12.1)\n",
      "Requirement already satisfied: jax>=0.3.15 in /usr/local/lib/python3.10/dist-packages (from tensorflow==2.12) (0.4.30)\n",
      "Requirement already satisfied: keras<2.13,>=2.12.0 in /usr/local/lib/python3.10/dist-packages (from tensorflow==2.12) (2.12.0)\n",
      "Requirement already satisfied: libclang>=13.0.0 in /usr/local/lib/python3.10/dist-packages (from tensorflow==2.12) (18.1.1)\n",
      "Requirement already satisfied: numpy<1.24,>=1.22 in /usr/local/lib/python3.10/dist-packages (from tensorflow==2.12) (1.23.5)\n",
      "Requirement already satisfied: opt-einsum>=2.3.2 in /usr/local/lib/python3.10/dist-packages (from tensorflow==2.12) (3.4.0)\n",
      "Requirement already satisfied: packaging in /usr/local/lib/python3.10/dist-packages (from tensorflow==2.12) (24.2)\n",
      "Requirement already satisfied: protobuf!=4.21.0,!=4.21.1,!=4.21.2,!=4.21.3,!=4.21.4,!=4.21.5,<5.0.0dev,>=3.20.3 in /usr/local/lib/python3.10/dist-packages (from tensorflow==2.12) (4.25.5)\n",
      "Requirement already satisfied: setuptools in /usr/local/lib/python3.10/dist-packages (from tensorflow==2.12) (75.1.0)\n",
      "Requirement already satisfied: six>=1.12.0 in /usr/local/lib/python3.10/dist-packages (from tensorflow==2.12) (1.16.0)\n",
      "Requirement already satisfied: tensorboard<2.13,>=2.12 in /usr/local/lib/python3.10/dist-packages (from tensorflow==2.12) (2.12.3)\n",
      "Requirement already satisfied: tensorflow-estimator<2.13,>=2.12.0 in /usr/local/lib/python3.10/dist-packages (from tensorflow==2.12) (2.12.0)\n",
      "Requirement already satisfied: termcolor>=1.1.0 in /usr/local/lib/python3.10/dist-packages (from tensorflow==2.12) (2.5.0)\n",
      "Requirement already satisfied: typing-extensions>=3.6.6 in /usr/local/lib/python3.10/dist-packages (from tensorflow==2.12) (4.12.2)\n",
      "Requirement already satisfied: wrapt<1.15,>=1.11.0 in /usr/local/lib/python3.10/dist-packages (from tensorflow==2.12) (1.14.1)\n",
      "Requirement already satisfied: tensorflow-io-gcs-filesystem>=0.23.1 in /usr/local/lib/python3.10/dist-packages (from tensorflow==2.12) (0.37.1)\n",
      "Requirement already satisfied: wheel<1.0,>=0.23.0 in /usr/local/lib/python3.10/dist-packages (from astunparse>=1.6.0->tensorflow==2.12) (0.45.0)\n",
      "Requirement already satisfied: jaxlib<=0.4.30,>=0.4.27 in /usr/local/lib/python3.10/dist-packages (from jax>=0.3.15->tensorflow==2.12) (0.4.30)\n",
      "Requirement already satisfied: ml-dtypes>=0.2.0 in /usr/local/lib/python3.10/dist-packages (from jax>=0.3.15->tensorflow==2.12) (0.4.1)\n",
      "Requirement already satisfied: scipy>=1.9 in /usr/local/lib/python3.10/dist-packages (from jax>=0.3.15->tensorflow==2.12) (1.13.1)\n",
      "Requirement already satisfied: google-auth<3,>=1.6.3 in /usr/local/lib/python3.10/dist-packages (from tensorboard<2.13,>=2.12->tensorflow==2.12) (2.27.0)\n",
      "Requirement already satisfied: google-auth-oauthlib<1.1,>=0.5 in /usr/local/lib/python3.10/dist-packages (from tensorboard<2.13,>=2.12->tensorflow==2.12) (1.0.0)\n",
      "Requirement already satisfied: markdown>=2.6.8 in /usr/local/lib/python3.10/dist-packages (from tensorboard<2.13,>=2.12->tensorflow==2.12) (3.7)\n",
      "Requirement already satisfied: requests<3,>=2.21.0 in /usr/local/lib/python3.10/dist-packages (from tensorboard<2.13,>=2.12->tensorflow==2.12) (2.32.3)\n",
      "Requirement already satisfied: tensorboard-data-server<0.8.0,>=0.7.0 in /usr/local/lib/python3.10/dist-packages (from tensorboard<2.13,>=2.12->tensorflow==2.12) (0.7.2)\n",
      "Requirement already satisfied: werkzeug>=1.0.1 in /usr/local/lib/python3.10/dist-packages (from tensorboard<2.13,>=2.12->tensorflow==2.12) (3.1.3)\n",
      "Requirement already satisfied: cachetools<6.0,>=2.0.0 in /usr/local/lib/python3.10/dist-packages (from google-auth<3,>=1.6.3->tensorboard<2.13,>=2.12->tensorflow==2.12) (5.5.0)\n",
      "Requirement already satisfied: pyasn1-modules>=0.2.1 in /usr/local/lib/python3.10/dist-packages (from google-auth<3,>=1.6.3->tensorboard<2.13,>=2.12->tensorflow==2.12) (0.4.1)\n",
      "Requirement already satisfied: rsa<5,>=3.1.4 in /usr/local/lib/python3.10/dist-packages (from google-auth<3,>=1.6.3->tensorboard<2.13,>=2.12->tensorflow==2.12) (4.9)\n",
      "Requirement already satisfied: requests-oauthlib>=0.7.0 in /usr/local/lib/python3.10/dist-packages (from google-auth-oauthlib<1.1,>=0.5->tensorboard<2.13,>=2.12->tensorflow==2.12) (1.3.1)\n",
      "Requirement already satisfied: charset-normalizer<4,>=2 in /usr/local/lib/python3.10/dist-packages (from requests<3,>=2.21.0->tensorboard<2.13,>=2.12->tensorflow==2.12) (3.4.0)\n",
      "Requirement already satisfied: idna<4,>=2.5 in /usr/local/lib/python3.10/dist-packages (from requests<3,>=2.21.0->tensorboard<2.13,>=2.12->tensorflow==2.12) (3.10)\n",
      "Requirement already satisfied: urllib3<3,>=1.21.1 in /usr/local/lib/python3.10/dist-packages (from requests<3,>=2.21.0->tensorboard<2.13,>=2.12->tensorflow==2.12) (2.2.3)\n",
      "Requirement already satisfied: certifi>=2017.4.17 in /usr/local/lib/python3.10/dist-packages (from requests<3,>=2.21.0->tensorboard<2.13,>=2.12->tensorflow==2.12) (2024.8.30)\n",
      "Requirement already satisfied: MarkupSafe>=2.1.1 in /usr/local/lib/python3.10/dist-packages (from werkzeug>=1.0.1->tensorboard<2.13,>=2.12->tensorflow==2.12) (3.0.2)\n",
      "Requirement already satisfied: pyasn1<0.7.0,>=0.4.6 in /usr/local/lib/python3.10/dist-packages (from pyasn1-modules>=0.2.1->google-auth<3,>=1.6.3->tensorboard<2.13,>=2.12->tensorflow==2.12) (0.6.1)\n",
      "Requirement already satisfied: oauthlib>=3.0.0 in /usr/local/lib/python3.10/dist-packages (from requests-oauthlib>=0.7.0->google-auth-oauthlib<1.1,>=0.5->tensorboard<2.13,>=2.12->tensorflow==2.12) (3.2.2)\n",
      "Requirement already satisfied: tensorflow==2.12 in /usr/local/lib/python3.10/dist-packages (2.12.0)\n",
      "Requirement already satisfied: absl-py>=1.0.0 in /usr/local/lib/python3.10/dist-packages (from tensorflow==2.12) (1.4.0)\n",
      "Requirement already satisfied: astunparse>=1.6.0 in /usr/local/lib/python3.10/dist-packages (from tensorflow==2.12) (1.6.3)\n",
      "Requirement already satisfied: flatbuffers>=2.0 in /usr/local/lib/python3.10/dist-packages (from tensorflow==2.12) (24.3.25)\n",
      "Requirement already satisfied: gast<=0.4.0,>=0.2.1 in /usr/local/lib/python3.10/dist-packages (from tensorflow==2.12) (0.4.0)\n",
      "Requirement already satisfied: google-pasta>=0.1.1 in /usr/local/lib/python3.10/dist-packages (from tensorflow==2.12) (0.2.0)\n",
      "Requirement already satisfied: grpcio<2.0,>=1.24.3 in /usr/local/lib/python3.10/dist-packages (from tensorflow==2.12) (1.68.0)\n",
      "Requirement already satisfied: h5py>=2.9.0 in /usr/local/lib/python3.10/dist-packages (from tensorflow==2.12) (3.12.1)\n",
      "Requirement already satisfied: jax>=0.3.15 in /usr/local/lib/python3.10/dist-packages (from tensorflow==2.12) (0.4.30)\n",
      "Requirement already satisfied: keras<2.13,>=2.12.0 in /usr/local/lib/python3.10/dist-packages (from tensorflow==2.12) (2.12.0)\n",
      "Requirement already satisfied: libclang>=13.0.0 in /usr/local/lib/python3.10/dist-packages (from tensorflow==2.12) (18.1.1)\n",
      "Requirement already satisfied: numpy<1.24,>=1.22 in /usr/local/lib/python3.10/dist-packages (from tensorflow==2.12) (1.23.5)\n",
      "Requirement already satisfied: opt-einsum>=2.3.2 in /usr/local/lib/python3.10/dist-packages (from tensorflow==2.12) (3.4.0)\n",
      "Requirement already satisfied: packaging in /usr/local/lib/python3.10/dist-packages (from tensorflow==2.12) (24.2)\n",
      "Requirement already satisfied: protobuf!=4.21.0,!=4.21.1,!=4.21.2,!=4.21.3,!=4.21.4,!=4.21.5,<5.0.0dev,>=3.20.3 in /usr/local/lib/python3.10/dist-packages (from tensorflow==2.12) (4.25.5)\n",
      "Requirement already satisfied: setuptools in /usr/local/lib/python3.10/dist-packages (from tensorflow==2.12) (75.1.0)\n",
      "Requirement already satisfied: six>=1.12.0 in /usr/local/lib/python3.10/dist-packages (from tensorflow==2.12) (1.16.0)\n",
      "Requirement already satisfied: tensorboard<2.13,>=2.12 in /usr/local/lib/python3.10/dist-packages (from tensorflow==2.12) (2.12.3)\n",
      "Requirement already satisfied: tensorflow-estimator<2.13,>=2.12.0 in /usr/local/lib/python3.10/dist-packages (from tensorflow==2.12) (2.12.0)\n",
      "Requirement already satisfied: termcolor>=1.1.0 in /usr/local/lib/python3.10/dist-packages (from tensorflow==2.12) (2.5.0)\n",
      "Requirement already satisfied: typing-extensions>=3.6.6 in /usr/local/lib/python3.10/dist-packages (from tensorflow==2.12) (4.12.2)\n",
      "Requirement already satisfied: wrapt<1.15,>=1.11.0 in /usr/local/lib/python3.10/dist-packages (from tensorflow==2.12) (1.14.1)\n",
      "Requirement already satisfied: tensorflow-io-gcs-filesystem>=0.23.1 in /usr/local/lib/python3.10/dist-packages (from tensorflow==2.12) (0.37.1)\n",
      "Requirement already satisfied: wheel<1.0,>=0.23.0 in /usr/local/lib/python3.10/dist-packages (from astunparse>=1.6.0->tensorflow==2.12) (0.45.0)\n",
      "Requirement already satisfied: jaxlib<=0.4.30,>=0.4.27 in /usr/local/lib/python3.10/dist-packages (from jax>=0.3.15->tensorflow==2.12) (0.4.30)\n",
      "Requirement already satisfied: ml-dtypes>=0.2.0 in /usr/local/lib/python3.10/dist-packages (from jax>=0.3.15->tensorflow==2.12) (0.4.1)\n",
      "Requirement already satisfied: scipy>=1.9 in /usr/local/lib/python3.10/dist-packages (from jax>=0.3.15->tensorflow==2.12) (1.13.1)\n",
      "Requirement already satisfied: google-auth<3,>=1.6.3 in /usr/local/lib/python3.10/dist-packages (from tensorboard<2.13,>=2.12->tensorflow==2.12) (2.27.0)\n",
      "Requirement already satisfied: google-auth-oauthlib<1.1,>=0.5 in /usr/local/lib/python3.10/dist-packages (from tensorboard<2.13,>=2.12->tensorflow==2.12) (1.0.0)\n",
      "Requirement already satisfied: markdown>=2.6.8 in /usr/local/lib/python3.10/dist-packages (from tensorboard<2.13,>=2.12->tensorflow==2.12) (3.7)\n",
      "Requirement already satisfied: requests<3,>=2.21.0 in /usr/local/lib/python3.10/dist-packages (from tensorboard<2.13,>=2.12->tensorflow==2.12) (2.32.3)\n",
      "Requirement already satisfied: tensorboard-data-server<0.8.0,>=0.7.0 in /usr/local/lib/python3.10/dist-packages (from tensorboard<2.13,>=2.12->tensorflow==2.12) (0.7.2)\n",
      "Requirement already satisfied: werkzeug>=1.0.1 in /usr/local/lib/python3.10/dist-packages (from tensorboard<2.13,>=2.12->tensorflow==2.12) (3.1.3)\n",
      "Requirement already satisfied: cachetools<6.0,>=2.0.0 in /usr/local/lib/python3.10/dist-packages (from google-auth<3,>=1.6.3->tensorboard<2.13,>=2.12->tensorflow==2.12) (5.5.0)\n",
      "Requirement already satisfied: pyasn1-modules>=0.2.1 in /usr/local/lib/python3.10/dist-packages (from google-auth<3,>=1.6.3->tensorboard<2.13,>=2.12->tensorflow==2.12) (0.4.1)\n",
      "Requirement already satisfied: rsa<5,>=3.1.4 in /usr/local/lib/python3.10/dist-packages (from google-auth<3,>=1.6.3->tensorboard<2.13,>=2.12->tensorflow==2.12) (4.9)\n",
      "Requirement already satisfied: requests-oauthlib>=0.7.0 in /usr/local/lib/python3.10/dist-packages (from google-auth-oauthlib<1.1,>=0.5->tensorboard<2.13,>=2.12->tensorflow==2.12) (1.3.1)\n",
      "Requirement already satisfied: charset-normalizer<4,>=2 in /usr/local/lib/python3.10/dist-packages (from requests<3,>=2.21.0->tensorboard<2.13,>=2.12->tensorflow==2.12) (3.4.0)\n",
      "Requirement already satisfied: idna<4,>=2.5 in /usr/local/lib/python3.10/dist-packages (from requests<3,>=2.21.0->tensorboard<2.13,>=2.12->tensorflow==2.12) (3.10)\n",
      "Requirement already satisfied: urllib3<3,>=1.21.1 in /usr/local/lib/python3.10/dist-packages (from requests<3,>=2.21.0->tensorboard<2.13,>=2.12->tensorflow==2.12) (2.2.3)\n",
      "Requirement already satisfied: certifi>=2017.4.17 in /usr/local/lib/python3.10/dist-packages (from requests<3,>=2.21.0->tensorboard<2.13,>=2.12->tensorflow==2.12) (2024.8.30)\n",
      "Requirement already satisfied: MarkupSafe>=2.1.1 in /usr/local/lib/python3.10/dist-packages (from werkzeug>=1.0.1->tensorboard<2.13,>=2.12->tensorflow==2.12) (3.0.2)\n",
      "Requirement already satisfied: pyasn1<0.7.0,>=0.4.6 in /usr/local/lib/python3.10/dist-packages (from pyasn1-modules>=0.2.1->google-auth<3,>=1.6.3->tensorboard<2.13,>=2.12->tensorflow==2.12) (0.6.1)\n",
      "Requirement already satisfied: oauthlib>=3.0.0 in /usr/local/lib/python3.10/dist-packages (from requests-oauthlib>=0.7.0->google-auth-oauthlib<1.1,>=0.5->tensorboard<2.13,>=2.12->tensorflow==2.12) (3.2.2)\n"
     ]
    }
   ],
   "source": [
    "# ! pip install --upgrade tensorflow==2.12"
   ]
  },
  {
   "cell_type": "code",
   "execution_count": 32,
   "id": "2265f887",
   "metadata": {
    "id": "2265f887"
   },
   "outputs": [],
   "source": [
    "import tensorflow as tf\n",
    "from tensorflow.keras.models import Model, load_model\n",
    "from tensorflow.keras.layers import Input, Dense, Dropout, Flatten, MultiHeadAttention, LayerNormalization\n",
    "import numpy as np\n",
    "import pandas as pd\n",
    "import matplotlib.pyplot as plt\n",
    "import glob\n",
    "import os"
   ]
  },
  {
   "cell_type": "markdown",
   "id": "699a9e96",
   "metadata": {
    "id": "699a9e96"
   },
   "source": [
    "## TPU Initialization"
   ]
  },
  {
   "cell_type": "code",
   "execution_count": 33,
   "id": "1d3dde21",
   "metadata": {
    "colab": {
     "base_uri": "https://localhost:8080/"
    },
    "id": "1d3dde21",
    "outputId": "01233291-8dfb-42be-fd71-d268b7bc4125"
   },
   "outputs": [
    {
     "name": "stdout",
     "output_type": "stream",
     "text": [
      "Not running on TPU\n",
      "Number of accelerators:  1\n",
      "Not running on TPU\n",
      "Number of accelerators:  1\n"
     ]
    }
   ],
   "source": [
    "# Detect and initialize the TPU\n",
    "try:\n",
    "    # TPU detection\n",
    "    tpu = tf.distribute.cluster_resolver.TPUClusterResolver()  # TPU detection\n",
    "    print('Running on TPU:', tpu.master())\n",
    "except ValueError:\n",
    "    tpu = None\n",
    "    print('Not running on TPU')\n",
    "\n",
    "if tpu:\n",
    "    # Connect to the TPU cluster and initialize the system\n",
    "    tf.config.experimental_connect_to_cluster(tpu)\n",
    "    tf.tpu.experimental.initialize_tpu_system(tpu)\n",
    "    strategy = tf.distribute.TPUStrategy(tpu)\n",
    "else:\n",
    "    # Default strategy if TPU is not available\n",
    "    strategy = tf.distribute.get_strategy()\n",
    "\n",
    "print('Number of accelerators: ', strategy.num_replicas_in_sync)"
   ]
  },
  {
   "cell_type": "markdown",
   "id": "77ba6d56",
   "metadata": {
    "id": "77ba6d56"
   },
   "source": [
    "## Constants and Parameters"
   ]
  },
  {
   "cell_type": "code",
   "execution_count": 34,
   "id": "529ace1c",
   "metadata": {
    "colab": {
     "base_uri": "https://localhost:8080/"
    },
    "id": "529ace1c",
    "outputId": "1a3326d2-7c43-4352-e93c-8b63802ff339"
   },
   "outputs": [
    {
     "name": "stdout",
     "output_type": "stream",
     "text": [
      "Global batch size: 32\n",
      "Global batch size: 32\n"
     ]
    }
   ],
   "source": [
    "sequence_length = 60  # Should match the value used in data preparation\n",
    "prediction_horizon = 5\n",
    "per_replica_batch_size = 32\n",
    "global_batch_size = per_replica_batch_size * strategy.num_replicas_in_sync\n",
    "print('Global batch size:', global_batch_size)"
   ]
  },
  {
   "cell_type": "markdown",
   "id": "4609573a",
   "metadata": {
    "id": "4609573a"
   },
   "source": [
    "## Mount Google Drive (if using Google Colab)"
   ]
  },
  {
   "cell_type": "code",
   "execution_count": 35,
   "id": "33717941",
   "metadata": {
    "colab": {
     "base_uri": "https://localhost:8080/"
    },
    "id": "33717941",
    "outputId": "76a1dfbd-0309-4187-d121-0d914d4f2f04"
   },
   "outputs": [
    {
     "name": "stdout",
     "output_type": "stream",
     "text": [
      "Drive already mounted at /content/drive; to attempt to forcibly remount, call drive.mount(\"/content/drive\", force_remount=True).\n",
      "Drive already mounted at /content/drive; to attempt to forcibly remount, call drive.mount(\"/content/drive\", force_remount=True).\n"
     ]
    }
   ],
   "source": [
    "# # If you're using Google Colab and storing data on Google Drive\n",
    "# from google.colab import drive\n",
    "# drive.mount('/content/drive')\n",
    "\n",
    "# # Change directory to where your TFRecord files are stored\n",
    "# os.chdir('/content/drive/MyDrive/')\n",
    "# print(\"Current Directory:\", os.getcwd())"
   ]
  },
  {
   "cell_type": "markdown",
   "id": "bfcc400a",
   "metadata": {
    "id": "bfcc400a"
   },
   "source": [
    "## Define Feature Description"
   ]
  },
  {
   "cell_type": "code",
   "execution_count": 36,
   "id": "962f0b20",
   "metadata": {
    "id": "962f0b20"
   },
   "outputs": [],
   "source": [
    "# Define feature description for parsing TFRecord files\n",
    "feature_description = {\n",
    "    'feature': tf.io.FixedLenFeature([], tf.string),\n",
    "    'label': tf.io.FixedLenFeature([], tf.string),\n",
    "}"
   ]
  },
  {
   "cell_type": "markdown",
   "id": "cbaf789e",
   "metadata": {
    "id": "cbaf789e"
   },
   "source": [
    "## Get the List of TFRecord Files"
   ]
  },
  {
   "cell_type": "code",
   "execution_count": 38,
   "id": "05c2f4d9",
   "metadata": {
    "colab": {
     "base_uri": "https://localhost:8080/"
    },
    "id": "05c2f4d9",
    "outputId": "483cd315-04e3-4ccf-b9c1-811b79324631"
   },
   "outputs": [
    {
     "name": "stdout",
     "output_type": "stream",
     "text": [
      "Found 10 TFRecord files.\n",
      "Found 10 TFRecord files.\n"
     ]
    }
   ],
   "source": [
    "# List all TFRecord files\n",
    "tfrecord_files = glob.glob('tfrecords_data/*.tfrecord')\n",
    "print(f\"Found {len(tfrecord_files)} TFRecord files.\")\n",
    "\n",
    "# Create a dataset from the list of TFRecord files\n",
    "raw_dataset = tf.data.TFRecordDataset(tfrecord_files, compression_type='GZIP')"
   ]
  },
  {
   "cell_type": "markdown",
   "id": "27ba607d",
   "metadata": {
    "id": "27ba607d"
   },
   "source": [
    "## Determine `num_features` from the Dataset"
   ]
  },
  {
   "cell_type": "code",
   "execution_count": 39,
   "id": "6e708f1a",
   "metadata": {
    "colab": {
     "base_uri": "https://localhost:8080/"
    },
    "id": "6e708f1a",
    "outputId": "950a2242-4336-45cf-82e2-d1207194582a"
   },
   "outputs": [
    {
     "name": "stdout",
     "output_type": "stream",
     "text": [
      "Sequence Length: 60, Num Features: 28, Prediction Horizon: 25\n",
      "Sequence Length: 60, Num Features: 28, Prediction Horizon: 25\n"
     ]
    }
   ],
   "source": [
    "# Extract one example to determine num_features\n",
    "for raw_record in raw_dataset.take(1):\n",
    "    example = tf.io.parse_single_example(raw_record, feature_description)\n",
    "    feature = tf.io.parse_tensor(example['feature'], out_type=tf.float32)\n",
    "    label = tf.io.parse_tensor(example['label'], out_type=tf.float32)\n",
    "    sequence_length = feature.shape[0]\n",
    "    num_features = feature.shape[1]\n",
    "    prediction_horizon = label.shape[0]\n",
    "    print(f\"Sequence Length: {sequence_length}, Num Features: {num_features}, Prediction Horizon: {prediction_horizon}\")\n",
    "    break"
   ]
  },
  {
   "cell_type": "markdown",
   "id": "d0359eff",
   "metadata": {
    "id": "d0359eff"
   },
   "source": [
    "## Function to Parse TFRecord Examples"
   ]
  },
  {
   "cell_type": "code",
   "execution_count": 40,
   "id": "cc3bf94e",
   "metadata": {
    "id": "cc3bf94e"
   },
   "outputs": [],
   "source": [
    "def parse_tfrecord_fn(example_proto):\n",
    "    example = tf.io.parse_single_example(example_proto, feature_description)\n",
    "\n",
    "    feature = tf.io.parse_tensor(example['feature'], out_type=tf.float32)\n",
    "    label = tf.io.parse_tensor(example['label'], out_type=tf.float32)\n",
    "\n",
    "    # Set shapes for feature and label\n",
    "    feature.set_shape([sequence_length, num_features])\n",
    "    label.set_shape([prediction_horizon])\n",
    "\n",
    "    return feature, label"
   ]
  },
  {
   "cell_type": "markdown",
   "id": "47197aad",
   "metadata": {
    "id": "47197aad"
   },
   "source": [
    "## Create `tf.data.Dataset` from TFRecord Files"
   ]
  },
  {
   "cell_type": "code",
   "execution_count": 41,
   "id": "6ca2b71e",
   "metadata": {
    "colab": {
     "base_uri": "https://localhost:8080/"
    },
    "id": "6ca2b71e",
    "outputId": "f2d129c7-817e-440a-c53f-0c14dd7bd083"
   },
   "outputs": [
    {
     "name": "stdout",
     "output_type": "stream",
     "text": [
      "Total number of samples in dataset: 251340\n",
      "Total number of samples in dataset: 251340\n"
     ]
    }
   ],
   "source": [
    "# Parse the serialized data in the TFRecord files\n",
    "parsed_dataset = raw_dataset.map(parse_tfrecord_fn, num_parallel_calls=tf.data.AUTOTUNE)\n",
    "\n",
    "# Determine the total dataset size\n",
    "total_dataset_size = sum(1 for _ in parsed_dataset)\n",
    "print(f\"Total number of samples in dataset: {total_dataset_size}\")\n",
    "\n",
    "# Reset the parsed_dataset iterator after counting\n",
    "parsed_dataset = raw_dataset.map(parse_tfrecord_fn, num_parallel_calls=tf.data.AUTOTUNE)"
   ]
  },
  {
   "cell_type": "markdown",
   "id": "74540ae6",
   "metadata": {
    "id": "74540ae6"
   },
   "source": [
    "## Split Dataset into Training and Testing Sets"
   ]
  },
  {
   "cell_type": "code",
   "execution_count": 42,
   "id": "17df231f",
   "metadata": {
    "colab": {
     "base_uri": "https://localhost:8080/"
    },
    "id": "17df231f",
    "outputId": "66130c65-657a-403b-f2ed-4833ce94d3b2"
   },
   "outputs": [
    {
     "name": "stdout",
     "output_type": "stream",
     "text": [
      "Training samples: 201072, Testing samples: 50268\n",
      "Training samples: 201072, Testing samples: 50268\n"
     ]
    }
   ],
   "source": [
    "# Shuffle and split the dataset\n",
    "train_size = int(0.8 * total_dataset_size)\n",
    "test_size = total_dataset_size - train_size\n",
    "\n",
    "# Shuffle the entire dataset and split\n",
    "parsed_dataset = parsed_dataset.shuffle(buffer_size=10000, reshuffle_each_iteration=False)\n",
    "\n",
    "train_dataset = parsed_dataset.take(train_size)\n",
    "test_dataset = parsed_dataset.skip(train_size)\n",
    "\n",
    "# Batch and prefetch the datasets\n",
    "train_dataset = train_dataset.batch(global_batch_size, drop_remainder=True).prefetch(tf.data.AUTOTUNE)\n",
    "test_dataset = test_dataset.batch(global_batch_size, drop_remainder=True).prefetch(tf.data.AUTOTUNE)\n",
    "\n",
    "print(f\"Training samples: {train_size}, Testing samples: {test_size}\")"
   ]
  },
  {
   "cell_type": "markdown",
   "id": "96bb66fa",
   "metadata": {
    "id": "96bb66fa"
   },
   "source": [
    "## Add Positional Encoding Function"
   ]
  },
  {
   "cell_type": "code",
   "execution_count": 43,
   "id": "39d822e8",
   "metadata": {
    "id": "39d822e8"
   },
   "outputs": [],
   "source": [
    "def positional_encoding(sequence_length, d_model):\n",
    "    position = tf.range(sequence_length, dtype=tf.float32)[:, tf.newaxis]\n",
    "    i = tf.range(d_model, dtype=tf.float32)[tf.newaxis, :]\n",
    "    angle_rates = 1 / tf.pow(10000.0, (2 * (i // 2)) / tf.cast(d_model, tf.float32))\n",
    "    angle_rads = position * angle_rates\n",
    "    sin_terms = tf.sin(angle_rads[:, 0::2])\n",
    "    cos_terms = tf.cos(angle_rads[:, 1::2])\n",
    "    pos_encoding = tf.concat([sin_terms, cos_terms], axis=-1)\n",
    "    return pos_encoding  # Shape: (sequence_length, d_model)"
   ]
  },
  {
   "cell_type": "markdown",
   "id": "e2c27089",
   "metadata": {
    "id": "e2c27089"
   },
   "source": [
    "## Build and Compile the Galformer Model"
   ]
  },
  {
   "cell_type": "code",
   "execution_count": 44,
   "id": "aaf8e4d6",
   "metadata": {
    "id": "aaf8e4d6"
   },
   "outputs": [],
   "source": [
    "# Initialize the Galformer model\n",
    "input_shape = (sequence_length, num_features)  # (sequence_length, num_features)\n",
    "output_length = prediction_horizon  # prediction_horizon\n",
    "\n",
    "def build_galformer_model(input_shape, output_length):\n",
    "    inputs = Input(shape=input_shape)  # input_shape = (sequence_length, num_features)\n",
    "\n",
    "    # Create positional encodings\n",
    "    pe = positional_encoding(input_shape[0], input_shape[1])\n",
    "    pe = tf.expand_dims(pe, axis=0)  # Shape: (1, sequence_length, num_features)\n",
    "\n",
    "    # Add positional encoding to inputs\n",
    "    x = inputs + pe  # Broadcasting, pe shape is (1, sequence_length, num_features)\n",
    "\n",
    "    # Transformer Encoder Layer\n",
    "    attn_output = MultiHeadAttention(num_heads=4, key_dim=input_shape[1])(x, x)\n",
    "    attn_output = Dropout(0.1)(attn_output)\n",
    "    out1 = LayerNormalization(epsilon=1e-6)(attn_output + x)\n",
    "\n",
    "    # Feed Forward Network\n",
    "    ffn_output = Dense(128, activation='relu')(out1)\n",
    "    ffn_output = Dense(input_shape[1])(ffn_output)\n",
    "    ffn_output = Dropout(0.1)(ffn_output)\n",
    "    out2 = LayerNormalization(epsilon=1e-6)(ffn_output + out1)\n",
    "\n",
    "    # Flatten and Output Layer\n",
    "    x = Flatten()(out2)\n",
    "    outputs = Dense(output_length, activation='linear')(x)\n",
    "\n",
    "    model = Model(inputs=inputs, outputs=outputs)\n",
    "    model.compile(optimizer='adam', loss='mse', metrics=['mae'])\n",
    "    return model\n",
    "\n",
    "# Build and compile the model within the strategy scope\n",
    "with strategy.scope():\n",
    "    galformer_model = build_galformer_model(input_shape, output_length)"
   ]
  },
  {
   "cell_type": "markdown",
   "id": "2ac621a0",
   "metadata": {
    "id": "2ac621a0"
   },
   "source": [
    "## Train the Galformer Model"
   ]
  },
  {
   "cell_type": "code",
   "execution_count": 45,
   "id": "90dfb38c",
   "metadata": {
    "colab": {
     "base_uri": "https://localhost:8080/"
    },
    "id": "90dfb38c",
    "outputId": "8a5cfeba-5766-460a-b8c1-317ff6eeaa48"
   },
   "outputs": [
    {
     "name": "stdout",
     "output_type": "stream",
     "text": [
      "6283/6283 [==============================] - 296s 47ms/step - loss: 3713.0867 - mae: 37.2634 - val_loss: 1394.0417 - val_mae: 23.0925\n",
      "6283/6283 [==============================] - 301s 47ms/step - loss: 3229.1072 - mae: 34.6706 - val_loss: 1645.5146 - val_mae: 24.5736\n"
     ]
    }
   ],
   "source": [
    "history_galformer = galformer_model.fit(\n",
    "    train_dataset,\n",
    "    epochs=10,\n",
    "    validation_data=test_dataset,\n",
    "    verbose=1\n",
    ")"
   ]
  },
  {
   "cell_type": "markdown",
   "id": "2928c561",
   "metadata": {
    "id": "2928c561"
   },
   "source": [
    "## Plot Training & Validation Loss Values"
   ]
  },
  {
   "cell_type": "code",
   "execution_count": 46,
   "id": "ea2d4663",
   "metadata": {
    "colab": {
     "base_uri": "https://localhost:8080/",
     "height": 1000
    },
    "id": "ea2d4663",
    "outputId": "076c5bbb-58f8-4cca-ac86-e669517d0c0d"
   },
   "outputs": [
    {
     "data": {
      "image/png": "[encoded data removed]",
      "text/plain": [
       "<Figure size 1000x600 with 1 Axes>"
      ]
     },
     "metadata": {},
     "output_type": "display_data"
    },
    {
     "data": {
      "image/png": "[encoded data removed]",
      "text/plain": [
       "<Figure size 1000x600 with 1 Axes>"
      ]
     },
     "metadata": {},
     "output_type": "display_data"
    }
   ],
   "source": [
    "plt.figure(figsize=(10, 6))\n",
    "plt.plot(history_galformer.history['loss'], label='Train Loss')\n",
    "plt.plot(history_galformer.history['val_loss'], label='Validation Loss')\n",
    "plt.title('Galformer Model Loss')\n",
    "plt.xlabel('Epoch')\n",
    "plt.ylabel('Loss')\n",
    "plt.legend()\n",
    "plt.show()"
   ]
  },
  {
   "cell_type": "markdown",
   "id": "0edf0232",
   "metadata": {
    "id": "0edf0232"
   },
   "source": [
    "## Evaluate the Galformer Model"
   ]
  },
  {
   "cell_type": "code",
   "execution_count": 47,
   "id": "a3e317f9",
   "metadata": {
    "colab": {
     "base_uri": "https://localhost:8080/"
    },
    "id": "a3e317f9",
    "outputId": "2c03b9df-50fe-474a-cb7f-ee35e5081a72"
   },
   "outputs": [
    {
     "name": "stdout",
     "output_type": "stream",
     "text": [
      "1570/1570 [==============================] - 44s 18ms/step - loss: 1394.0417 - mae: 23.0925\n",
      "Galformer Model - Test Loss: 1394.0417, Test MAE: 23.0925\n",
      "1570/1570 [==============================] - 44s 18ms/step - loss: 1645.5146 - mae: 24.5736\n",
      "Galformer Model - Test Loss: 1645.5146, Test MAE: 24.5736\n"
     ]
    }
   ],
   "source": [
    "test_loss_galformer, test_mae_galformer = galformer_model.evaluate(test_dataset, verbose=1)\n",
    "print(f\"Galformer Model - Test Loss: {test_loss_galformer:.4f}, Test MAE: {test_mae_galformer:.4f}\")"
   ]
  },
  {
   "cell_type": "markdown",
   "id": "3c51ce2f",
   "metadata": {
    "id": "3c51ce2f"
   },
   "source": [
    "## Predict on Test Data"
   ]
  },
  {
   "cell_type": "code",
   "execution_count": 48,
   "id": "d2e11e89",
   "metadata": {
    "colab": {
     "base_uri": "https://localhost:8080/",
     "height": 1000
    },
    "id": "d2e11e89",
    "outputId": "ecd69f2c-a513-4a77-9306-32baa6847cc8"
   },
   "outputs": [
    {
     "name": "stdout",
     "output_type": "stream",
     "text": [
      "1570/1570 [==============================] - 25s 16ms/step\n"
     ]
    },
    {
     "data": {
      "image/png": "[encoded data removed]",
      "text/plain": [
       "<Figure size 1000x600 with 1 Axes>"
      ]
     },
     "metadata": {},
     "output_type": "display_data"
    },
    {
     "name": "stdout",
     "output_type": "stream",
     "text": [
      "1570/1570 [==============================] - 25s 16ms/step\n"
     ]
    },
    {
     "data": {
      "image/png": "[encoded data removed]",
      "text/plain": [
       "<Figure size 1000x600 with 1 Axes>"
      ]
     },
     "metadata": {},
     "output_type": "display_data"
    }
   ],
   "source": [
    "# Collect features and labels from test_dataset\n",
    "X_test_list = []\n",
    "y_test_list = []\n",
    "\n",
    "for features, labels in test_dataset:\n",
    "    X_test_list.append(features.numpy())\n",
    "    y_test_list.append(labels.numpy())\n",
    "\n",
    "# Concatenate lists to form arrays\n",
    "X_test = np.concatenate(X_test_list, axis=0)\n",
    "y_test = np.concatenate(y_test_list, axis=0)\n",
    "\n",
    "# Predict on test data\n",
    "def add_positional_encoding(inputs):\n",
    "    pe = positional_encoding(inputs.shape[1], inputs.shape[2])\n",
    "    pe = tf.expand_dims(pe, axis=0)  # Shape: (1, sequence_length, num_features)\n",
    "    inputs_with_pe = inputs + pe.numpy()\n",
    "    return inputs_with_pe\n",
    "\n",
    "X_test_with_pe = add_positional_encoding(X_test)\n",
    "y_pred_galformer = galformer_model.predict(X_test_with_pe)\n",
    "\n",
    "# Visualize predictions for the first test sample\n",
    "plt.figure(figsize=(10, 6))\n",
    "\n",
    "# Plot Actual Prices for the first test sample\n",
    "plt.plot(range(1, output_length + 1), y_test[0], label=\"Actual Prices\", marker='o')\n",
    "\n",
    "# Plot Predicted Prices for the first test sample (Galformer)\n",
    "plt.plot(range(1, output_length + 1), y_pred_galformer[0], label=\"Predicted Prices (Galformer)\", marker='x')\n",
    "\n",
    "plt.title(\"Actual vs Predicted Prices (First Test Sample - Galformer)\")\n",
    "plt.xlabel(\"Days Ahead\")\n",
    "plt.ylabel(\"Price\")\n",
    "plt.legend()\n",
    "plt.show()"
   ]
  },
  {
   "cell_type": "markdown",
   "id": "bb0b0cc5",
   "metadata": {
    "id": "bb0b0cc5"
   },
   "source": [
    "## Save the Galformer Model"
   ]
  },
  {
   "cell_type": "code",
   "execution_count": 49,
   "id": "895dd0f1",
   "metadata": {
    "colab": {
     "base_uri": "https://localhost:8080/"
    },
    "id": "895dd0f1",
    "outputId": "bab1e56f-7e6b-407b-9d81-fc4b2b07b67f"
   },
   "outputs": [
    {
     "name": "stdout",
     "output_type": "stream",
     "text": [
      "Galformer Model has been saved to 'generalized_stock_galformer_model.keras'.\n",
      "Galformer Model has been saved to 'generalized_stock_galformer_model.keras'.\n"
     ]
    }
   ],
   "source": [
    "galformer_model.save('generalized_stock_galformer_model.keras')\n",
    "print(\"Galformer Model has been saved to 'generalized_stock_galformer_model.keras'.\")"
   ]
  },
  {
   "cell_type": "markdown",
   "id": "9efd0526",
   "metadata": {
    "id": "9efd0526"
   },
   "source": [
    "## Inference with New Data"
   ]
  },
  {
   "cell_type": "markdown",
   "id": "b9a55aeb",
   "metadata": {
    "id": "b9a55aeb"
   },
   "source": [
    "### Load Company Data for Inference"
   ]
  },
  {
   "cell_type": "code",
   "execution_count": 50,
   "id": "30192cac",
   "metadata": {
    "id": "30192cac"
   },
   "outputs": [],
   "source": [
    "def load_company_data():\n",
    "    all_dfs = {}\n",
    "    parquet_files = glob.glob('df_*.parquet')\n",
    "    for file in parquet_files:\n",
    "        key = file.split('.')[0]  # e.g., 'df_AAPL'\n",
    "        df = pd.read_parquet(file)\n",
    "        all_dfs[key] = df\n",
    "    return all_dfs\n",
    "\n",
    "all_dfs = load_company_data()"
   ]
  },
  {
   "cell_type": "markdown",
   "id": "90917624",
   "metadata": {
    "id": "90917624"
   },
   "source": [
    "### Prepare Data for Inference"
   ]
  },
  {
   "cell_type": "code",
   "execution_count": 51,
   "id": "d35b9afc",
   "metadata": {
    "id": "d35b9afc"
   },
   "outputs": [],
   "source": [
    "def prepare_inference_data(company_df, sequence_length=60):\n",
    "    \"\"\"\n",
    "    Prepare input data for inference for a single company.\n",
    "    Args:\n",
    "        company_df (DataFrame): The DataFrame for a specific company.\n",
    "        sequence_length (int): The number of past days to consider as input.\n",
    "\n",
    "    Returns:\n",
    "        numpy array: The input data ready for prediction.\n",
    "    \"\"\"\n",
    "    # Ensure data is sorted by date\n",
    "    company_df = company_df.sort_index()\n",
    "\n",
    "    # Select relevant input features (exclude targets)\n",
    "    input_features = company_df.filter(regex=\"^(?!.*target).*\").values\n",
    "\n",
    "    # Take the last `sequence_length` days as input for prediction\n",
    "    if len(input_features) >= sequence_length:\n",
    "        input_sequence = input_features[-sequence_length:]\n",
    "        # Ensure the input sequence has the correct shape\n",
    "        input_sequence = np.expand_dims(input_sequence, axis=0)  # Add batch dimension\n",
    "        return input_sequence.astype(np.float32)  # Ensure data type consistency\n",
    "    else:\n",
    "        raise ValueError(\"Insufficient data for inference (less than sequence length).\")"
   ]
  },
  {
   "cell_type": "markdown",
   "id": "0e64a6ab",
   "metadata": {
    "id": "0e64a6ab"
   },
   "source": [
    "### Make Predictions for Each Company"
   ]
  },
  {
   "cell_type": "code",
   "execution_count": 52,
   "id": "123758e9",
   "metadata": {
    "id": "123758e9"
   },
   "outputs": [],
   "source": [
    "def get_galformer_predictions_for_company(company_df, galformer_model, sequence_length=60):\n",
    "    \"\"\"\n",
    "    Get Galformer predictions for a single company using the trained model.\n",
    "    Args:\n",
    "        company_df (DataFrame): DataFrame of the company.\n",
    "        galformer_model: Trained Galformer model.\n",
    "        sequence_length (int): Number of past days to consider as input.\n",
    "\n",
    "    Returns:\n",
    "        numpy array: Predicted prices.\n",
    "    \"\"\"\n",
    "    try:\n",
    "        # Prepare data for inference\n",
    "        input_data = prepare_inference_data(company_df, sequence_length=sequence_length)\n",
    "\n",
    "        # Add positional encoding to inference data\n",
    "        pe = positional_encoding(input_data.shape[1], input_data.shape[2])\n",
    "        pe = tf.expand_dims(pe, axis=0)  # Shape: (1, sequence_length, num_features)\n",
    "        input_data_with_pe = input_data + pe.numpy()\n",
    "\n",
    "        # Make predictions with Galformer\n",
    "        pred_galformer = galformer_model.predict(input_data_with_pe)\n",
    "        return pred_galformer.flatten()\n",
    "    except ValueError as e:\n",
    "        print(f\"Skipping due to error: {e}\")\n",
    "        return None"
   ]
  },
  {
   "cell_type": "markdown",
   "id": "e12e3560",
   "metadata": {
    "id": "e12e3560"
   },
   "source": [
    "### Load the Trained Model"
   ]
  },
  {
   "cell_type": "code",
   "execution_count": 53,
   "id": "6c339134",
   "metadata": {
    "id": "6c339134"
   },
   "outputs": [],
   "source": [
    "# Load the trained Galformer model\n",
    "galformer_model = tf.keras.models.load_model('generalized_stock_galformer_model.keras')"
   ]
  },
  {
   "cell_type": "markdown",
   "id": "d35daa28",
   "metadata": {
    "id": "d35daa28"
   },
   "source": [
    "### Make Predictions for All Companies"
   ]
  },
  {
   "cell_type": "code",
   "execution_count": 54,
   "id": "7784fb12",
   "metadata": {
    "id": "7784fb12"
   },
   "outputs": [],
   "source": [
    "def get_galformer_predictions_for_all_companies(all_dfs, galformer_model, sequence_length=60):\n",
    "    \"\"\"\n",
    "    Get Galformer predictions for all companies.\n",
    "    \"\"\"\n",
    "    all_predictions = {}\n",
    "    for company_key, company_df in all_dfs.items():\n",
    "        print(f\"Processing {company_key}...\")\n",
    "        predictions = get_galformer_predictions_for_company(company_df, galformer_model, sequence_length=sequence_length)\n",
    "        if predictions is not None:\n",
    "            all_predictions[company_key] = predictions\n",
    "        else:\n",
    "            print(f\"Predictions not available for {company_key}.\")\n",
    "    return all_predictions"
   ]
  },
  {
   "cell_type": "code",
   "execution_count": 55,
   "id": "3a54ac67",
   "metadata": {
    "id": "3a54ac67"
   },
   "outputs": [],
   "source": [
    "# Get predictions for all companies\n",
    "all_company_predictions = get_galformer_predictions_for_all_companies(all_dfs, galformer_model, sequence_length=60)"
   ]
  },
  {
   "cell_type": "markdown",
   "id": "9ee6ccb7",
   "metadata": {
    "id": "9ee6ccb7"
   },
   "source": [
    "### Save Predictions"
   ]
  },
  {
   "cell_type": "code",
   "execution_count": 56,
   "id": "74b42560",
   "metadata": {
    "colab": {
     "base_uri": "https://localhost:8080/",
     "height": 88
    },
    "id": "74b42560",
    "outputId": "d96da617-c6d0-49d2-92f4-9a7662597b69"
   },
   "outputs": [
    {
     "data": {
      "application/vnd.google.colaboratory.intrinsic+json": {
       "summary": "{\n  \"name\": \"predictions_df\",\n  \"rows\": 0,\n  \"fields\": []\n}",
       "type": "dataframe",
       "variable_name": "predictions_df"
      },
      "text/html": [
       "\n",
       "  <div id=\"df-a6807ece-af35-4f78-b1cf-d813295ca315\" class=\"colab-df-container\">\n",
       "    <div>\n",
       "<style scoped>\n",
       "    .dataframe tbody tr th:only-of-type {\n",
       "        vertical-align: middle;\n",
       "    }\n",
       "\n",
       "    .dataframe tbody tr th {\n",
       "        vertical-align: top;\n",
       "    }\n",
       "\n",
       "    .dataframe thead th {\n",
       "        text-align: right;\n",
       "    }\n",
       "</style>\n",
       "<table border=\"1\" class=\"dataframe\">\n",
       "  <thead>\n",
       "    <tr style=\"text-align: right;\">\n",
       "      <th></th>\n",
       "    </tr>\n",
       "  </thead>\n",
       "  <tbody>\n",
       "  </tbody>\n",
       "</table>\n",
       "</div>\n",
       "    <div class=\"colab-df-buttons\">\n",
       "\n",
       "  <div class=\"colab-df-container\">\n",
       "    <button class=\"colab-df-convert\" onclick=\"convertToInteractive('df-a6807ece-af35-4f78-b1cf-d813295ca315')\"\n",
       "            title=\"Convert this dataframe to an interactive table.\"\n",
       "            style=\"display:none;\">\n",
       "\n",
       "  <svg xmlns=\"http://www.w3.org/2000/svg\" height=\"24px\" viewBox=\"0 -960 960 960\">\n",
       "    <path d=\"M120-120v-720h720v720H120Zm60-500h600v-160H180v160Zm220 220h160v-160H400v160Zm0 220h160v-160H400v160ZM180-400h160v-160H180v160Zm440 0h160v-160H620v160ZM180-180h160v-160H180v160Zm440 0h160v-160H620v160Z\"/>\n",
       "  </svg>\n",
       "    </button>\n",
       "\n",
       "  <style>\n",
       "    .colab-df-container {\n",
       "      display:flex;\n",
       "      gap: 12px;\n",
       "    }\n",
       "\n",
       "    .colab-df-convert {\n",
       "      background-color: #E8F0FE;\n",
       "      border: none;\n",
       "      border-radius: 50%;\n",
       "      cursor: pointer;\n",
       "      display: none;\n",
       "      fill: #1967D2;\n",
       "      height: 32px;\n",
       "      padding: 0 0 0 0;\n",
       "      width: 32px;\n",
       "    }\n",
       "\n",
       "    .colab-df-convert:hover {\n",
       "      background-color: #E2EBFA;\n",
       "      box-shadow: 0px 1px 2px rgba(60, 64, 67, 0.3), 0px 1px 3px 1px rgba(60, 64, 67, 0.15);\n",
       "      fill: #174EA6;\n",
       "    }\n",
       "\n",
       "    .colab-df-buttons div {\n",
       "      margin-bottom: 4px;\n",
       "    }\n",
       "\n",
       "    [theme=dark] .colab-df-convert {\n",
       "      background-color: #3B4455;\n",
       "      fill: #D2E3FC;\n",
       "    }\n",
       "\n",
       "    [theme=dark] .colab-df-convert:hover {\n",
       "      background-color: #434B5C;\n",
       "      box-shadow: 0px 1px 3px 1px rgba(0, 0, 0, 0.15);\n",
       "      filter: drop-shadow(0px 1px 2px rgba(0, 0, 0, 0.3));\n",
       "      fill: #FFFFFF;\n",
       "    }\n",
       "  </style>\n",
       "\n",
       "    <script>\n",
       "      const buttonEl =\n",
       "        document.querySelector('#df-a6807ece-af35-4f78-b1cf-d813295ca315 button.colab-df-convert');\n",
       "      buttonEl.style.display =\n",
       "        google.colab.kernel.accessAllowed ? 'block' : 'none';\n",
       "\n",
       "      async function convertToInteractive(key) {\n",
       "        const element = document.querySelector('#df-a6807ece-af35-4f78-b1cf-d813295ca315');\n",
       "        const dataTable =\n",
       "          await google.colab.kernel.invokeFunction('convertToInteractive',\n",
       "                                                    [key], {});\n",
       "        if (!dataTable) return;\n",
       "\n",
       "        const docLinkHtml = 'Like what you see? Visit the ' +\n",
       "          '<a target=\"_blank\" href=https://colab.research.google.com/notebooks/data_table.ipynb>data table notebook</a>'\n",
       "          + ' to learn more about interactive tables.';\n",
       "        element.innerHTML = '';\n",
       "        dataTable['output_type'] = 'display_data';\n",
       "        await google.colab.output.renderOutput(dataTable, element);\n",
       "        const docLink = document.createElement('div');\n",
       "        docLink.innerHTML = docLinkHtml;\n",
       "        element.appendChild(docLink);\n",
       "      }\n",
       "    </script>\n",
       "  </div>\n",
       "\n",
       "\n",
       "    </div>\n",
       "  </div>\n"
      ],
      "text/plain": [
       "Empty DataFrame\n",
       "Columns: []\n",
       "Index: []"
      ]
     },
     "execution_count": 26,
     "metadata": {},
     "output_type": "execute_result"
    },
    {
     "data": {
      "application/vnd.google.colaboratory.intrinsic+json": {
       "summary": "{\n  \"name\": \"predictions_df\",\n  \"rows\": 0,\n  \"fields\": []\n}",
       "type": "dataframe",
       "variable_name": "predictions_df"
      },
      "text/html": [
       "\n",
       "  <div id=\"df-71f24aba-0a39-4fcb-b936-58c640242112\" class=\"colab-df-container\">\n",
       "    <div>\n",
       "<style scoped>\n",
       "    .dataframe tbody tr th:only-of-type {\n",
       "        vertical-align: middle;\n",
       "    }\n",
       "\n",
       "    .dataframe tbody tr th {\n",
       "        vertical-align: top;\n",
       "    }\n",
       "\n",
       "    .dataframe thead th {\n",
       "        text-align: right;\n",
       "    }\n",
       "</style>\n",
       "<table border=\"1\" class=\"dataframe\">\n",
       "  <thead>\n",
       "    <tr style=\"text-align: right;\">\n",
       "      <th></th>\n",
       "    </tr>\n",
       "  </thead>\n",
       "  <tbody>\n",
       "  </tbody>\n",
       "</table>\n",
       "</div>\n",
       "    <div class=\"colab-df-buttons\">\n",
       "\n",
       "  <div class=\"colab-df-container\">\n",
       "    <button class=\"colab-df-convert\" onclick=\"convertToInteractive('df-71f24aba-0a39-4fcb-b936-58c640242112')\"\n",
       "            title=\"Convert this dataframe to an interactive table.\"\n",
       "            style=\"display:none;\">\n",
       "\n",
       "  <svg xmlns=\"http://www.w3.org/2000/svg\" height=\"24px\" viewBox=\"0 -960 960 960\">\n",
       "    <path d=\"M120-120v-720h720v720H120Zm60-500h600v-160H180v160Zm220 220h160v-160H400v160Zm0 220h160v-160H400v160ZM180-400h160v-160H180v160Zm440 0h160v-160H620v160ZM180-180h160v-160H180v160Zm440 0h160v-160H620v160Z\"/>\n",
       "  </svg>\n",
       "    </button>\n",
       "\n",
       "  <style>\n",
       "    .colab-df-container {\n",
       "      display:flex;\n",
       "      gap: 12px;\n",
       "    }\n",
       "\n",
       "    .colab-df-convert {\n",
       "      background-color: #E8F0FE;\n",
       "      border: none;\n",
       "      border-radius: 50%;\n",
       "      cursor: pointer;\n",
       "      display: none;\n",
       "      fill: #1967D2;\n",
       "      height: 32px;\n",
       "      padding: 0 0 0 0;\n",
       "      width: 32px;\n",
       "    }\n",
       "\n",
       "    .colab-df-convert:hover {\n",
       "      background-color: #E2EBFA;\n",
       "      box-shadow: 0px 1px 2px rgba(60, 64, 67, 0.3), 0px 1px 3px 1px rgba(60, 64, 67, 0.15);\n",
       "      fill: #174EA6;\n",
       "    }\n",
       "\n",
       "    .colab-df-buttons div {\n",
       "      margin-bottom: 4px;\n",
       "    }\n",
       "\n",
       "    [theme=dark] .colab-df-convert {\n",
       "      background-color: #3B4455;\n",
       "      fill: #D2E3FC;\n",
       "    }\n",
       "\n",
       "    [theme=dark] .colab-df-convert:hover {\n",
       "      background-color: #434B5C;\n",
       "      box-shadow: 0px 1px 3px 1px rgba(0, 0, 0, 0.15);\n",
       "      filter: drop-shadow(0px 1px 2px rgba(0, 0, 0, 0.3));\n",
       "      fill: #FFFFFF;\n",
       "    }\n",
       "  </style>\n",
       "\n",
       "    <script>\n",
       "      const buttonEl =\n",
       "        document.querySelector('#df-71f24aba-0a39-4fcb-b936-58c640242112 button.colab-df-convert');\n",
       "      buttonEl.style.display =\n",
       "        google.colab.kernel.accessAllowed ? 'block' : 'none';\n",
       "\n",
       "      async function convertToInteractive(key) {\n",
       "        const element = document.querySelector('#df-71f24aba-0a39-4fcb-b936-58c640242112');\n",
       "        const dataTable =\n",
       "          await google.colab.kernel.invokeFunction('convertToInteractive',\n",
       "                                                    [key], {});\n",
       "        if (!dataTable) return;\n",
       "\n",
       "        const docLinkHtml = 'Like what you see? Visit the ' +\n",
       "          '<a target=\"_blank\" href=https://colab.research.google.com/notebooks/data_table.ipynb>data table notebook</a>'\n",
       "          + ' to learn more about interactive tables.';\n",
       "        element.innerHTML = '';\n",
       "        dataTable['output_type'] = 'display_data';\n",
       "        await google.colab.output.renderOutput(dataTable, element);\n",
       "        const docLink = document.createElement('div');\n",
       "        docLink.innerHTML = docLinkHtml;\n",
       "        element.appendChild(docLink);\n",
       "      }\n",
       "    </script>\n",
       "  </div>\n",
       "\n",
       "\n",
       "    </div>\n",
       "  </div>\n"
      ],
      "text/plain": [
       "Empty DataFrame\n",
       "Columns: []\n",
       "Index: []"
      ]
     },
     "execution_count": 56,
     "metadata": {},
     "output_type": "execute_result"
    }
   ],
   "source": [
    "def predictions_to_dataframe(predictions_dict):\n",
    "    \"\"\"\n",
    "    Convert predictions dictionary to a DataFrame.\n",
    "    \"\"\"\n",
    "    records = []\n",
    "    for company_key, pred_values in predictions_dict.items():\n",
    "        for day_ahead, value in enumerate(pred_values, start=1):\n",
    "            records.append({\n",
    "                'Company': company_key.replace('df_', ''),\n",
    "                'Day_Ahead': day_ahead,\n",
    "                'Predicted_Price': value\n",
    "            })\n",
    "    return pd.DataFrame(records)\n",
    "\n",
    "predictions_df = predictions_to_dataframe(all_company_predictions)\n",
    "predictions_df.head()"
   ]
  },
  {
   "cell_type": "code",
   "execution_count": 57,
   "id": "b0b84add",
   "metadata": {
    "colab": {
     "base_uri": "https://localhost:8080/"
    },
    "id": "b0b84add",
    "outputId": "099ad0be-c8ed-4293-fd7a-b2b2a3295f43"
   },
   "outputs": [
    {
     "name": "stdout",
     "output_type": "stream",
     "text": [
      "Galformer Predictions have been saved to 'galformer_stock_price_predictions.csv'.\n",
      "Galformer Predictions have been saved to 'galformer_stock_price_predictions.csv'.\n"
     ]
    }
   ],
   "source": [
    "# Save the predictions DataFrame to a CSV file\n",
    "predictions_df.to_csv('galformer_stock_price_predictions.csv', index=False)\n",
    "print(\"Galformer Predictions have been saved to 'galformer_stock_price_predictions.csv'.\")"
   ]
  }
 ],
 "metadata": {
  "accelerator": "TPU",
  "colab": {
   "gpuType": "V28",
   "provenance": []
  },
  "jupytext": {
   "cell_metadata_filter": "-all",
   "main_language": "python",
   "notebook_metadata_filter": "-all"
  },
  "kernelspec": {
   "display_name": "Python 3",
   "name": "python3"
  },
  "language_info": {
   "name": "python"
  }
 },
 "nbformat": 4,
 "nbformat_minor": 5
}
