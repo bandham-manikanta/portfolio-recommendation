{
 "cells": [
  {
   "cell_type": "code",
   "execution_count": 5,
   "metadata": {},
   "outputs": [
    {
     "name": "stderr",
     "output_type": "stream",
     "text": [
      "[*********************100%***********************]  50 of 50 completed"
     ]
    },
    {
     "name": "stdout",
     "output_type": "stream",
     "text": [
      "Ticker        AMZN                                                   NFLX  \\\n",
      "Price         Open    High     Low   Close Adj Close     Volume      Open   \n",
      "Date                                                                        \n",
      "2003-01-02  0.9595  0.9840  0.9275  0.9785    0.9785  129680000  0.846429   \n",
      "2003-01-03  0.9795  1.0265  0.9705  1.0260    1.0260  175140000  0.850000   \n",
      "2003-01-06  1.0200  1.0585  1.0150  1.0350    1.0350  153962000  0.785714   \n",
      "2003-01-07  1.0415  1.0875  1.0300  1.0775    1.0775  191364000  0.771429   \n",
      "2003-01-08  1.0720  1.0800  1.0410  1.0510    1.0510  139630000  0.771429   \n",
      "\n",
      "Ticker                                    ...      ISRG                      \\\n",
      "Price           High       Low     Close  ...       Low     Close Adj Close   \n",
      "Date                                      ...                                 \n",
      "2003-01-02  0.900000  0.810714  0.817857  ...  1.333333  1.355556  1.355556   \n",
      "2003-01-03  0.850000  0.771429  0.772857  ...  1.344444  1.355556  1.355556   \n",
      "2003-01-06  0.800000  0.762143  0.792857  ...  1.337778  1.355556  1.355556   \n",
      "2003-01-07  0.795714  0.771429  0.783571  ...  1.311111  1.324444  1.324444   \n",
      "2003-01-08  0.857143  0.762143  0.815000  ...  1.280000  1.286667  1.286667   \n",
      "\n",
      "Ticker                    TMO                                              \\\n",
      "Price       Volume       Open       High        Low      Close  Adj Close   \n",
      "Date                                                                        \n",
      "2003-01-02  457200  20.350000  20.379999  20.090000  20.379999  19.382896   \n",
      "2003-01-03  397350  20.299999  20.320000  19.940001  19.950001  18.973930   \n",
      "2003-01-06  328050  20.200001  20.240000  19.959999  19.980000  19.002464   \n",
      "2003-01-07  182700  20.020000  20.020000  19.760000  19.870001  18.897850   \n",
      "2003-01-08  317250  19.870001  19.879999  19.450001  19.520000  18.564980   \n",
      "\n",
      "Ticker               \n",
      "Price        Volume  \n",
      "Date                 \n",
      "2003-01-02   981400  \n",
      "2003-01-03  1013200  \n",
      "2003-01-06  1031100  \n",
      "2003-01-07   715600  \n",
      "2003-01-08   484300  \n",
      "\n",
      "[5 rows x 300 columns]\n"
     ]
    },
    {
     "name": "stderr",
     "output_type": "stream",
     "text": [
      "\n"
     ]
    }
   ],
   "source": [
    "import yfinance as yf\n",
    "import pandas as pd\n",
    "import datetime\n",
    "\n",
    "# Get the current date as the end date\n",
    "end_date = datetime.datetime.today().strftime('%Y-%m-%d')\n",
    "\n",
    "# Example list of S&P 500 tickers (full list can be obtained elsewhere)\n",
    "sp500_tickers = [\"AAPL\", \"NVDA\", \"MSFT\", \"GOOG\", \"GOOGL\", \"AMZN\", \"META\", \"AVGO\", \"LLY\", \"TSLA\", \n",
    "                 \"WMT\", \"JPM\", \"V\", \"XOM\", \"UNH\", \"ORCL\", \"MA\", \"HD\", \"PG\", \"COST\", \"JNJ\", \n",
    "                 \"NFLX\", \"ABBV\", \"BAC\", \"KO\", \"CRM\", \"CVX\", \"MRK\", \"TMUS\", \"AMD\", \"PEP\", \n",
    "                 \"ACN\", \"LIN\", \"TMO\", \"MCD\", \"CSCO\", \"ADBE\", \"WFC\", \"IBM\", \"GE\", \"ABT\", \n",
    "                 \"DHR\", \"AXP\", \"MS\", \"CAT\", \"NOW\", \"QCOM\", \"PM\", \"ISRG\", \"VZ\"]\n",
    "\n",
    "# Download data for all tickers at once\n",
    "data = yf.download(sp500_tickers, start='2003-01-01', end=end_date, group_by='ticker')\n",
    "\n",
    "# The data now has a MultiIndex column: first level is price type, second level is ticker\n",
    "# To have a cleaner dataframe, we can stack the price types and unstack the tickers\n",
    "\n",
    "# Now, 'close_data' is a dataframe with dates as index and tickers as columns\n",
    "print(data.head())\n"
   ]
  },
  {
   "cell_type": "code",
   "execution_count": 6,
   "metadata": {},
   "outputs": [
    {
     "name": "stdout",
     "output_type": "stream",
     "text": [
      "Ticker            AMZN                                                  \\\n",
      "Price             Open        High         Low       Close   Adj Close   \n",
      "Date                                                                     \n",
      "2024-11-27  206.979996  207.639999  205.050003  205.740005  205.740005   \n",
      "\n",
      "Ticker                      NFLX                                      ...  \\\n",
      "Price         Volume        Open        High         Low       Close  ...   \n",
      "Date                                                                  ...   \n",
      "2024-11-27  28061600  872.059998  880.950012  858.909973  877.340027  ...   \n",
      "\n",
      "Ticker           ISRG                                         TMO              \\\n",
      "Price             Low       Close   Adj Close  Volume        Open        High   \n",
      "Date                                                                            \n",
      "2024-11-27  538.22998  538.549988  538.549988  938400  515.409973  528.859985   \n",
      "\n",
      "Ticker                                                  \n",
      "Price             Low       Close   Adj Close   Volume  \n",
      "Date                                                    \n",
      "2024-11-27  514.97998  521.659973  521.659973  2914100  \n",
      "\n",
      "[1 rows x 300 columns]\n"
     ]
    }
   ],
   "source": [
    "print(data.tail(1))"
   ]
  },
  {
   "cell_type": "code",
   "execution_count": 7,
   "metadata": {},
   "outputs": [],
   "source": [
    "# data.to_parquet('sp500_50stocks_data.parquet')"
   ]
  },
  {
   "cell_type": "code",
   "execution_count": 8,
   "metadata": {},
   "outputs": [
    {
     "data": {
      "text/plain": [
       "MultiIndex([('AMZN',      'Open'),\n",
       "            ('AMZN',      'High'),\n",
       "            ('AMZN',       'Low'),\n",
       "            ('AMZN',     'Close'),\n",
       "            ('AMZN', 'Adj Close'),\n",
       "            ('AMZN',    'Volume'),\n",
       "            ('NFLX',      'Open'),\n",
       "            ('NFLX',      'High'),\n",
       "            ('NFLX',       'Low'),\n",
       "            ('NFLX',     'Close'),\n",
       "            ...\n",
       "            ('ISRG',       'Low'),\n",
       "            ('ISRG',     'Close'),\n",
       "            ('ISRG', 'Adj Close'),\n",
       "            ('ISRG',    'Volume'),\n",
       "            ( 'TMO',      'Open'),\n",
       "            ( 'TMO',      'High'),\n",
       "            ( 'TMO',       'Low'),\n",
       "            ( 'TMO',     'Close'),\n",
       "            ( 'TMO', 'Adj Close'),\n",
       "            ( 'TMO',    'Volume')],\n",
       "           names=['Ticker', 'Price'], length=300)"
      ]
     },
     "execution_count": 8,
     "metadata": {},
     "output_type": "execute_result"
    }
   ],
   "source": [
    "data.columns"
   ]
  },
  {
   "cell_type": "code",
   "execution_count": null,
   "metadata": {},
   "outputs": [],
   "source": []
  }
 ],
 "metadata": {
  "kernelspec": {
   "display_name": "ams_560_bdata_venv",
   "language": "python",
   "name": "python3"
  },
  "language_info": {
   "codemirror_mode": {
    "name": "ipython",
    "version": 3
   },
   "file_extension": ".py",
   "mimetype": "text/x-python",
   "name": "python",
   "nbconvert_exporter": "python",
   "pygments_lexer": "ipython3",
   "version": "3.9.18"
  }
 },
 "nbformat": 4,
 "nbformat_minor": 2
}
