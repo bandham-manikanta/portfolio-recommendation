{
 "cells": [
  {
   "cell_type": "code",
   "execution_count": 1,
   "metadata": {},
   "outputs": [
    {
     "name": "stderr",
     "output_type": "stream",
     "text": [
      "[*********************100%***********************]  50 of 50 completed\n"
     ]
    },
    {
     "name": "stdout",
     "output_type": "stream",
     "text": [
      "Ticker       AMD                                       TSLA                 \\\n",
      "Price       Open  High   Low Close Adj Close    Volume Open High Low Close   \n",
      "Date                                                                         \n",
      "2003-01-02  6.56  7.11  6.47  7.01      7.01  17474800  NaN  NaN NaN   NaN   \n",
      "2003-01-03  7.01  7.19  6.86  6.94      6.94   6235700  NaN  NaN NaN   NaN   \n",
      "2003-01-06  7.05  7.23  7.00  7.16      7.16   6833200  NaN  NaN NaN   NaN   \n",
      "2003-01-07  7.25  7.48  7.10  7.17      7.17   9785100  NaN  NaN NaN   NaN   \n",
      "2003-01-08  7.06  7.10  6.63  6.69      6.69  13952300  NaN  NaN NaN   NaN   \n",
      "\n",
      "Ticker      ...         VZ                                      AAPL  \\\n",
      "Price       ...        Low      Close  Adj Close    Volume      Open   \n",
      "Date        ...                                                        \n",
      "2003-01-02  ...  35.136539  36.125793  12.283099   7294044  0.256429   \n",
      "2003-01-03  ...  35.847004  36.377605  12.368718   5745323  0.264286   \n",
      "2003-01-06  ...  37.034111  39.633156  13.475639  20465734  0.268393   \n",
      "2003-01-07  ...  38.850742  39.228458  13.338038  14728528  0.264107   \n",
      "2003-01-08  ...  36.602436  36.791294  12.620769  18176011  0.260357   \n",
      "\n",
      "Ticker                                                         \n",
      "Price           High       Low     Close Adj Close     Volume  \n",
      "Date                                                           \n",
      "2003-01-02  0.266429  0.256250  0.264286  0.222938  181428800  \n",
      "2003-01-03  0.266607  0.260536  0.266071  0.224443  147453600  \n",
      "2003-01-06  0.274643  0.265714  0.266071  0.224443  390532800  \n",
      "2003-01-07  0.267857  0.258393  0.265179  0.223691  342344800  \n",
      "2003-01-08  0.262679  0.257857  0.259821  0.219171  229644800  \n",
      "\n",
      "[5 rows x 300 columns]\n"
     ]
    }
   ],
   "source": [
    "import yfinance as yf\n",
    "import pandas as pd\n",
    "import datetime\n",
    "\n",
    "# Get the current date as the end date\n",
    "end_date = datetime.datetime.today().strftime('%Y-%m-%d')\n",
    "\n",
    "# Example list of S&P 500 tickers (full list can be obtained elsewhere)\n",
    "sp500_tickers = [\"AAPL\", \"NVDA\", \"MSFT\", \"GOOG\", \"GOOGL\", \"AMZN\", \"META\", \"AVGO\", \"LLY\", \"TSLA\", \n",
    "                 \"WMT\", \"JPM\", \"V\", \"XOM\", \"UNH\", \"ORCL\", \"MA\", \"HD\", \"PG\", \"COST\", \"JNJ\", \n",
    "                 \"NFLX\", \"ABBV\", \"BAC\", \"KO\", \"CRM\", \"CVX\", \"MRK\", \"TMUS\", \"AMD\", \"PEP\", \n",
    "                 \"ACN\", \"LIN\", \"TMO\", \"MCD\", \"CSCO\", \"ADBE\", \"WFC\", \"IBM\", \"GE\", \"ABT\", \n",
    "                 \"DHR\", \"AXP\", \"MS\", \"CAT\", \"NOW\", \"QCOM\", \"PM\", \"ISRG\", \"VZ\"]\n",
    "\n",
    "# Download data for all tickers at once\n",
    "data = yf.download(sp500_tickers, start='2003-01-01', end=end_date, group_by='ticker')\n",
    "\n",
    "# The data now has a MultiIndex column: first level is price type, second level is ticker\n",
    "# To have a cleaner dataframe, we can stack the price types and unstack the tickers\n",
    "\n",
    "# Now, 'close_data' is a dataframe with dates as index and tickers as columns\n",
    "print(data.head())\n"
   ]
  },
  {
   "cell_type": "code",
   "execution_count": 2,
   "metadata": {},
   "outputs": [
    {
     "name": "stdout",
     "output_type": "stream",
     "text": [
      "Ticker             AMD                                                  \\\n",
      "Price             Open        High         Low       Close   Adj Close   \n",
      "Date                                                                     \n",
      "2024-11-26  142.550003  142.800003  136.619995  137.720001  137.720001   \n",
      "\n",
      "Ticker                 TSLA                                      ...     VZ  \\\n",
      "Price         Volume   Open        High         Low       Close  ...    Low   \n",
      "Date                                                             ...          \n",
      "2024-11-26  32092400  341.0  346.959991  335.660004  338.230011  ...  43.75   \n",
      "\n",
      "Ticker                                            AAPL              \\\n",
      "Price           Close  Adj Close    Volume        Open        High   \n",
      "Date                                                                 \n",
      "2024-11-26  44.369999  44.369999  17247000  233.330002  235.570007   \n",
      "\n",
      "Ticker                                                    \n",
      "Price              Low       Close   Adj Close    Volume  \n",
      "Date                                                      \n",
      "2024-11-26  233.330002  235.059998  235.059998  45986200  \n",
      "\n",
      "[1 rows x 300 columns]\n"
     ]
    }
   ],
   "source": [
    "print(data.tail(1))"
   ]
  },
  {
   "cell_type": "code",
   "execution_count": 3,
   "metadata": {},
   "outputs": [],
   "source": [
    "data.to_parquet('sp500_50stocks_data.parquet')"
   ]
  },
  {
   "cell_type": "code",
   "execution_count": 4,
   "metadata": {},
   "outputs": [
    {
     "data": {
      "text/plain": [
       "MultiIndex([( 'AMD',      'Open'),\n",
       "            ( 'AMD',      'High'),\n",
       "            ( 'AMD',       'Low'),\n",
       "            ( 'AMD',     'Close'),\n",
       "            ( 'AMD', 'Adj Close'),\n",
       "            ( 'AMD',    'Volume'),\n",
       "            ('TSLA',      'Open'),\n",
       "            ('TSLA',      'High'),\n",
       "            ('TSLA',       'Low'),\n",
       "            ('TSLA',     'Close'),\n",
       "            ...\n",
       "            (  'VZ',       'Low'),\n",
       "            (  'VZ',     'Close'),\n",
       "            (  'VZ', 'Adj Close'),\n",
       "            (  'VZ',    'Volume'),\n",
       "            ('AAPL',      'Open'),\n",
       "            ('AAPL',      'High'),\n",
       "            ('AAPL',       'Low'),\n",
       "            ('AAPL',     'Close'),\n",
       "            ('AAPL', 'Adj Close'),\n",
       "            ('AAPL',    'Volume')],\n",
       "           names=['Ticker', 'Price'], length=300)"
      ]
     },
     "execution_count": 4,
     "metadata": {},
     "output_type": "execute_result"
    }
   ],
   "source": [
    "data.columns"
   ]
  },
  {
   "cell_type": "code",
   "execution_count": null,
   "metadata": {},
   "outputs": [],
   "source": []
  }
 ],
 "metadata": {
  "kernelspec": {
   "display_name": "ams_560_bdata_venv",
   "language": "python",
   "name": "python3"
  },
  "language_info": {
   "codemirror_mode": {
    "name": "ipython",
    "version": 3
   },
   "file_extension": ".py",
   "mimetype": "text/x-python",
   "name": "python",
   "nbconvert_exporter": "python",
   "pygments_lexer": "ipython3",
   "version": "3.9.18"
  }
 },
 "nbformat": 4,
 "nbformat_minor": 2
}
